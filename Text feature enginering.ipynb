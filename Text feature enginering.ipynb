{
 "cells": [
  {
   "cell_type": "code",
   "execution_count": 2,
   "id": "78cf22b3",
   "metadata": {},
   "outputs": [
    {
     "data": {
      "text/plain": [
       "{'the': 6,\n",
       " 'aggressive': 0,\n",
       " 'brown': 2,\n",
       " 'beast': 1,\n",
       " 'exasperated': 3,\n",
       " 'pedantic': 4,\n",
       " 'pontificator': 5}"
      ]
     },
     "execution_count": 2,
     "metadata": {},
     "output_type": "execute_result"
    }
   ],
   "source": [
    "from sklearn.feature_extraction.text import CountVectorizer\n",
    "#\n",
    "# Bag-of-Words example\n",
    "#\n",
    "# Some text\n",
    "short_text = [\"The aggressive brown beast exasperated the pedantic pontificator.\"]\n",
    "vectoriser = CountVectorizer()\n",
    "vectoriser.fit(short_text)\n",
    "vectoriser.vocabulary_"
   ]
  },
  {
   "cell_type": "code",
   "execution_count": 3,
   "id": "ab2be0a4",
   "metadata": {},
   "outputs": [
    {
     "data": {
      "text/plain": [
       "(1, 7)"
      ]
     },
     "execution_count": 3,
     "metadata": {},
     "output_type": "execute_result"
    }
   ],
   "source": [
    "vector = vectoriser.transform(short_text)\n",
    "vector.shape"
   ]
  },
  {
   "cell_type": "code",
   "execution_count": 4,
   "id": "111b4598",
   "metadata": {},
   "outputs": [
    {
     "data": {
      "text/plain": [
       "scipy.sparse.csr.csr_matrix"
      ]
     },
     "execution_count": 4,
     "metadata": {},
     "output_type": "execute_result"
    }
   ],
   "source": [
    "type(vector)"
   ]
  },
  {
   "cell_type": "code",
   "execution_count": 5,
   "id": "719bff9a",
   "metadata": {},
   "outputs": [
    {
     "data": {
      "text/plain": [
       "array([[1, 1, 1, 1, 1, 1, 2]])"
      ]
     },
     "execution_count": 5,
     "metadata": {},
     "output_type": "execute_result"
    }
   ],
   "source": [
    "vector.toarray()"
   ]
  },
  {
   "cell_type": "markdown",
   "id": "7ac6ae0b",
   "metadata": {},
   "source": [
    "# N-Gram"
   ]
  },
  {
   "cell_type": "code",
   "execution_count": 6,
   "id": "351c4e82",
   "metadata": {},
   "outputs": [
    {
     "data": {
      "text/plain": [
       "{'the': 15,\n",
       " 'aggressive': 0,\n",
       " 'brown': 6,\n",
       " 'beast': 3,\n",
       " 'exasperated': 9,\n",
       " 'pedantic': 12,\n",
       " 'pontificator': 14,\n",
       " 'the aggressive': 16,\n",
       " 'aggressive brown': 1,\n",
       " 'brown beast': 7,\n",
       " 'beast exasperated': 4,\n",
       " 'exasperated the': 10,\n",
       " 'the pedantic': 18,\n",
       " 'pedantic pontificator': 13,\n",
       " 'the aggressive brown': 17,\n",
       " 'aggressive brown beast': 2,\n",
       " 'brown beast exasperated': 8,\n",
       " 'beast exasperated the': 5,\n",
       " 'exasperated the pedantic': 11,\n",
       " 'the pedantic pontificator': 19}"
      ]
     },
     "execution_count": 6,
     "metadata": {},
     "output_type": "execute_result"
    }
   ],
   "source": [
    "ngram_vectoriser = CountVectorizer(analyzer='word', ngram_range=(1,3))\n",
    "ngram_vectoriser.fit(short_text)\n",
    "ngram_vectoriser.vocabulary_"
   ]
  },
  {
   "cell_type": "code",
   "execution_count": 8,
   "id": "52f9e6d3",
   "metadata": {},
   "outputs": [
    {
     "data": {
      "text/plain": [
       "array(['aggressive', 'aggressive brown', 'aggressive brown beast',\n",
       "       'beast', 'beast exasperated', 'beast exasperated the', 'brown',\n",
       "       'brown beast', 'brown beast exasperated', 'exasperated',\n",
       "       'exasperated the', 'exasperated the pedantic', 'pedantic',\n",
       "       'pedantic pontificator', 'pontificator', 'the', 'the aggressive',\n",
       "       'the aggressive brown', 'the pedantic',\n",
       "       'the pedantic pontificator'], dtype=object)"
      ]
     },
     "execution_count": 8,
     "metadata": {},
     "output_type": "execute_result"
    }
   ],
   "source": [
    "ngram_vectoriser.get_feature_names_out()"
   ]
  }
 ],
 "metadata": {
  "kernelspec": {
   "display_name": "conda_python3",
   "language": "python",
   "name": "conda_python3"
  },
  "language_info": {
   "codemirror_mode": {
    "name": "ipython",
    "version": 3
   },
   "file_extension": ".py",
   "mimetype": "text/x-python",
   "name": "python",
   "nbconvert_exporter": "python",
   "pygments_lexer": "ipython3",
   "version": "3.8.12"
  }
 },
 "nbformat": 4,
 "nbformat_minor": 5
}

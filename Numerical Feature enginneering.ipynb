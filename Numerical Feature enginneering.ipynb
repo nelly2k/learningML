{
 "cells": [
  {
   "cell_type": "code",
   "execution_count": 1,
   "id": "986e29b6",
   "metadata": {},
   "outputs": [],
   "source": [
    "import pandas as pd\n",
    "import numpy as np"
   ]
  },
  {
   "cell_type": "code",
   "execution_count": 3,
   "id": "70fd0f4d",
   "metadata": {},
   "outputs": [
    {
     "data": {
      "text/html": [
       "<div>\n",
       "<style scoped>\n",
       "    .dataframe tbody tr th:only-of-type {\n",
       "        vertical-align: middle;\n",
       "    }\n",
       "\n",
       "    .dataframe tbody tr th {\n",
       "        vertical-align: top;\n",
       "    }\n",
       "\n",
       "    .dataframe thead th {\n",
       "        text-align: right;\n",
       "    }\n",
       "</style>\n",
       "<table border=\"1\" class=\"dataframe\">\n",
       "  <thead>\n",
       "    <tr style=\"text-align: right;\">\n",
       "      <th></th>\n",
       "      <th>Column1</th>\n",
       "      <th>Column2</th>\n",
       "      <th>Column3</th>\n",
       "      <th>Column4</th>\n",
       "    </tr>\n",
       "  </thead>\n",
       "  <tbody>\n",
       "    <tr>\n",
       "      <th>0</th>\n",
       "      <td>99999</td>\n",
       "      <td>2</td>\n",
       "      <td>0</td>\n",
       "      <td>9</td>\n",
       "    </tr>\n",
       "    <tr>\n",
       "      <th>1</th>\n",
       "      <td>35</td>\n",
       "      <td>8</td>\n",
       "      <td>4</td>\n",
       "      <td>7</td>\n",
       "    </tr>\n",
       "    <tr>\n",
       "      <th>2</th>\n",
       "      <td>27</td>\n",
       "      <td>23</td>\n",
       "      <td>1</td>\n",
       "      <td>99</td>\n",
       "    </tr>\n",
       "  </tbody>\n",
       "</table>\n",
       "</div>"
      ],
      "text/plain": [
       "   Column1  Column2  Column3  Column4\n",
       "0    99999        2        0        9\n",
       "1       35        8        4        7\n",
       "2       27       23        1       99"
      ]
     },
     "execution_count": 3,
     "metadata": {},
     "output_type": "execute_result"
    }
   ],
   "source": [
    "data = np.array([[99999,2,0,9],[35,8,4,7],[27,23,1,99]])\n",
    "data_raw= pd.DataFrame({'Column1': data[:,0],'Column2': data[:,1],'Column3': data[:,2],'Column4': data[:,3]})\n",
    "data_raw"
   ]
  },
  {
   "cell_type": "markdown",
   "id": "fe4e9022",
   "metadata": {},
   "source": [
    "# Normalisation"
   ]
  },
  {
   "cell_type": "code",
   "execution_count": 7,
   "id": "bd489340",
   "metadata": {},
   "outputs": [
    {
     "data": {
      "text/plain": [
       "array([[9.99999996e-01, 2.00001999e-05, 0.00000000e+00, 9.00008996e-05],\n",
       "       [9.51171244e-01, 2.17410570e-01, 1.08705285e-01, 1.90234249e-01],\n",
       "       [2.56735663e-01, 2.18700750e-01, 9.50872826e-03, 9.41364098e-01]])"
      ]
     },
     "execution_count": 7,
     "metadata": {},
     "output_type": "execute_result"
    }
   ],
   "source": [
    "\n",
    "from sklearn import preprocessing\n",
    "normalised_data = preprocessing.normalize(data)\n",
    "normalised_data"
   ]
  },
  {
   "cell_type": "code",
   "execution_count": 9,
   "id": "544d7a1b",
   "metadata": {},
   "outputs": [
    {
     "data": {
      "text/html": [
       "<div>\n",
       "<style scoped>\n",
       "    .dataframe tbody tr th:only-of-type {\n",
       "        vertical-align: middle;\n",
       "    }\n",
       "\n",
       "    .dataframe tbody tr th {\n",
       "        vertical-align: top;\n",
       "    }\n",
       "\n",
       "    .dataframe thead th {\n",
       "        text-align: right;\n",
       "    }\n",
       "</style>\n",
       "<table border=\"1\" class=\"dataframe\">\n",
       "  <thead>\n",
       "    <tr style=\"text-align: right;\">\n",
       "      <th></th>\n",
       "      <th>Column1</th>\n",
       "      <th>Column2</th>\n",
       "      <th>Column3</th>\n",
       "      <th>Column4</th>\n",
       "    </tr>\n",
       "  </thead>\n",
       "  <tbody>\n",
       "    <tr>\n",
       "      <th>0</th>\n",
       "      <td>1.000000</td>\n",
       "      <td>0.000020</td>\n",
       "      <td>0.000000</td>\n",
       "      <td>0.000090</td>\n",
       "    </tr>\n",
       "    <tr>\n",
       "      <th>1</th>\n",
       "      <td>0.951171</td>\n",
       "      <td>0.217411</td>\n",
       "      <td>0.108705</td>\n",
       "      <td>0.190234</td>\n",
       "    </tr>\n",
       "    <tr>\n",
       "      <th>2</th>\n",
       "      <td>0.256736</td>\n",
       "      <td>0.218701</td>\n",
       "      <td>0.009509</td>\n",
       "      <td>0.941364</td>\n",
       "    </tr>\n",
       "  </tbody>\n",
       "</table>\n",
       "</div>"
      ],
      "text/plain": [
       "    Column1   Column2   Column3   Column4\n",
       "0  1.000000  0.000020  0.000000  0.000090\n",
       "1  0.951171  0.217411  0.108705  0.190234\n",
       "2  0.256736  0.218701  0.009509  0.941364"
      ]
     },
     "execution_count": 9,
     "metadata": {},
     "output_type": "execute_result"
    }
   ],
   "source": [
    "dataset = pd.DataFrame({'Column1': normalised_data[:,0],'Column2': normalised_data[:,1],'Column3': normalised_data[:,2],'Column4': normalised_data[:,3]})\n",
    "dataset"
   ]
  },
  {
   "cell_type": "markdown",
   "id": "26f26d65",
   "metadata": {},
   "source": [
    "# Standardisation"
   ]
  },
  {
   "cell_type": "code",
   "execution_count": 15,
   "id": "08580842",
   "metadata": {},
   "outputs": [
    {
     "data": {
      "text/html": [
       "<div>\n",
       "<style scoped>\n",
       "    .dataframe tbody tr th:only-of-type {\n",
       "        vertical-align: middle;\n",
       "    }\n",
       "\n",
       "    .dataframe tbody tr th {\n",
       "        vertical-align: top;\n",
       "    }\n",
       "\n",
       "    .dataframe thead th {\n",
       "        text-align: right;\n",
       "    }\n",
       "</style>\n",
       "<table border=\"1\" class=\"dataframe\">\n",
       "  <thead>\n",
       "    <tr style=\"text-align: right;\">\n",
       "      <th></th>\n",
       "      <th>Column1</th>\n",
       "      <th>Column2</th>\n",
       "      <th>Column3</th>\n",
       "      <th>Column4</th>\n",
       "    </tr>\n",
       "  </thead>\n",
       "  <tbody>\n",
       "    <tr>\n",
       "      <th>0</th>\n",
       "      <td>1.414214</td>\n",
       "      <td>-1.019049</td>\n",
       "      <td>-0.980581</td>\n",
       "      <td>-0.683672</td>\n",
       "    </tr>\n",
       "    <tr>\n",
       "      <th>1</th>\n",
       "      <td>-0.707022</td>\n",
       "      <td>-0.339683</td>\n",
       "      <td>1.372813</td>\n",
       "      <td>-0.730286</td>\n",
       "    </tr>\n",
       "    <tr>\n",
       "      <th>2</th>\n",
       "      <td>-0.707192</td>\n",
       "      <td>1.358732</td>\n",
       "      <td>-0.392232</td>\n",
       "      <td>1.413957</td>\n",
       "    </tr>\n",
       "  </tbody>\n",
       "</table>\n",
       "</div>"
      ],
      "text/plain": [
       "    Column1   Column2   Column3   Column4\n",
       "0  1.414214 -1.019049 -0.980581 -0.683672\n",
       "1 -0.707022 -0.339683  1.372813 -0.730286\n",
       "2 -0.707192  1.358732 -0.392232  1.413957"
      ]
     },
     "execution_count": 15,
     "metadata": {},
     "output_type": "execute_result"
    }
   ],
   "source": [
    "from sklearn.preprocessing import StandardScaler\n",
    "standard_data = StandardScaler().fit_transform(data_raw)\n",
    "dataset_standard = pd.DataFrame({'Column1': standard_data[:,0],'Column2': standard_data[:,1],'Column3': standard_data[:,2],'Column4': standard_data[:,3]})\n",
    "dataset_standard"
   ]
  },
  {
   "cell_type": "markdown",
   "id": "73f6c0a9",
   "metadata": {},
   "source": [
    "# Categorical Binning "
   ]
  },
  {
   "cell_type": "code",
   "execution_count": 16,
   "id": "7d1e30e0",
   "metadata": {},
   "outputs": [],
   "source": [
    "countries = pd.Series([\n",
    "        'United States',\n",
    "        'Canada',\n",
    "        'Spain',\n",
    "        'Italy',\n",
    "        'Chile',\n",
    "        'Brazil',\n",
    "        'North Korea',\n",
    "        'Vietnam',\n",
    "        'Thailand',\n",
    "        'Malaysia',\n",
    "        'Mayanmar',\n",
    "        'Iceland',\n",
    "        'Germany',\n",
    "        'Cuba',\n",
    "        'Mexico'\n",
    "    ], name = \"Countries\")\n",
    "\n",
    "groups = {\n",
    "        'North America': ('United States', 'Canada', 'Iceland', 'Greenland', 'Mexico'),\n",
    "        'Europe': ('France', 'Germany', 'United Kingdom', 'Belgium', 'Spain', 'Italy', 'Poland'),\n",
    "        'South America': ('Chile', 'Brazil', 'Peru', 'Colombia', 'Ecuador'),\n",
    "        'Asia': ('North Korea', 'Vietnam', 'Thailand', 'Malaysia', 'Mayanmar')\n",
    "    }"
   ]
  },
  {
   "cell_type": "code",
   "execution_count": 22,
   "id": "7229035a",
   "metadata": {},
   "outputs": [],
   "source": [
    "from typing import Any\n",
    "def country_group_map(series: pd.Series, groups: dict,\n",
    "                   othervalue: Any=-1) -> pd.Series:\n",
    "    # Assign the dictionary pairs\n",
    "    groups = {z: j for j, r in groups.items() for z in r}\n",
    "    return series.map(groups).fillna(othervalue)"
   ]
  },
  {
   "cell_type": "code",
   "execution_count": 25,
   "id": "a776f189",
   "metadata": {},
   "outputs": [
    {
     "data": {
      "text/html": [
       "<div>\n",
       "<style scoped>\n",
       "    .dataframe tbody tr th:only-of-type {\n",
       "        vertical-align: middle;\n",
       "    }\n",
       "\n",
       "    .dataframe tbody tr th {\n",
       "        vertical-align: top;\n",
       "    }\n",
       "\n",
       "    .dataframe thead th {\n",
       "        text-align: right;\n",
       "    }\n",
       "</style>\n",
       "<table border=\"1\" class=\"dataframe\">\n",
       "  <thead>\n",
       "    <tr style=\"text-align: right;\">\n",
       "      <th></th>\n",
       "      <th>Countries</th>\n",
       "      <th>Grouped Countries</th>\n",
       "    </tr>\n",
       "  </thead>\n",
       "  <tbody>\n",
       "    <tr>\n",
       "      <th>0</th>\n",
       "      <td>United States</td>\n",
       "      <td>North America</td>\n",
       "    </tr>\n",
       "    <tr>\n",
       "      <th>1</th>\n",
       "      <td>Canada</td>\n",
       "      <td>North America</td>\n",
       "    </tr>\n",
       "    <tr>\n",
       "      <th>2</th>\n",
       "      <td>Spain</td>\n",
       "      <td>Europe</td>\n",
       "    </tr>\n",
       "    <tr>\n",
       "      <th>3</th>\n",
       "      <td>Italy</td>\n",
       "      <td>Europe</td>\n",
       "    </tr>\n",
       "    <tr>\n",
       "      <th>4</th>\n",
       "      <td>Chile</td>\n",
       "      <td>South America</td>\n",
       "    </tr>\n",
       "    <tr>\n",
       "      <th>5</th>\n",
       "      <td>Brazil</td>\n",
       "      <td>South America</td>\n",
       "    </tr>\n",
       "    <tr>\n",
       "      <th>6</th>\n",
       "      <td>North Korea</td>\n",
       "      <td>Asia</td>\n",
       "    </tr>\n",
       "    <tr>\n",
       "      <th>7</th>\n",
       "      <td>Vietnam</td>\n",
       "      <td>Asia</td>\n",
       "    </tr>\n",
       "    <tr>\n",
       "      <th>8</th>\n",
       "      <td>Thailand</td>\n",
       "      <td>Asia</td>\n",
       "    </tr>\n",
       "    <tr>\n",
       "      <th>9</th>\n",
       "      <td>Malaysia</td>\n",
       "      <td>Asia</td>\n",
       "    </tr>\n",
       "    <tr>\n",
       "      <th>10</th>\n",
       "      <td>Mayanmar</td>\n",
       "      <td>Asia</td>\n",
       "    </tr>\n",
       "    <tr>\n",
       "      <th>11</th>\n",
       "      <td>Iceland</td>\n",
       "      <td>North America</td>\n",
       "    </tr>\n",
       "    <tr>\n",
       "      <th>12</th>\n",
       "      <td>Germany</td>\n",
       "      <td>Europe</td>\n",
       "    </tr>\n",
       "    <tr>\n",
       "      <th>13</th>\n",
       "      <td>Cuba</td>\n",
       "      <td>other</td>\n",
       "    </tr>\n",
       "    <tr>\n",
       "      <th>14</th>\n",
       "      <td>Mexico</td>\n",
       "      <td>North America</td>\n",
       "    </tr>\n",
       "  </tbody>\n",
       "</table>\n",
       "</div>"
      ],
      "text/plain": [
       "        Countries Grouped Countries\n",
       "0   United States     North America\n",
       "1          Canada     North America\n",
       "2           Spain            Europe\n",
       "3           Italy            Europe\n",
       "4           Chile     South America\n",
       "5          Brazil     South America\n",
       "6     North Korea              Asia\n",
       "7         Vietnam              Asia\n",
       "8        Thailand              Asia\n",
       "9        Malaysia              Asia\n",
       "10       Mayanmar              Asia\n",
       "11        Iceland     North America\n",
       "12        Germany            Europe\n",
       "13           Cuba             other\n",
       "14         Mexico     North America"
      ]
     },
     "execution_count": 25,
     "metadata": {},
     "output_type": "execute_result"
    }
   ],
   "source": [
    "grouped_countries = country_group_map(countries, groups, othervalue = 'other')\n",
    "df = pd.concat([countries.rename('Countries'), grouped_countries.rename('Grouped Countries')], axis=1)\n",
    "\n",
    "df"
   ]
  },
  {
   "cell_type": "code",
   "execution_count": 29,
   "id": "30889398",
   "metadata": {},
   "outputs": [
    {
     "data": {
      "text/plain": [
       "<AxesSubplot:xlabel='Grouped Countries'>"
      ]
     },
     "execution_count": 29,
     "metadata": {},
     "output_type": "execute_result"
    },
    {
     "data": {
      "image/png": "[encoded data removed]",
      "text/plain": [
       "<Figure size 432x288 with 1 Axes>"
      ]
     },
     "metadata": {
      "needs_background": "light"
     },
     "output_type": "display_data"
    }
   ],
   "source": [
    "import matplotlib.pyplot as plt\n",
    "data = df.groupby('Grouped Countries').count()\n",
    "data.plot.bar(by='Grouped Countries', rot=45)"
   ]
  },
  {
   "cell_type": "markdown",
   "id": "0d749904",
   "metadata": {},
   "source": [
    "# Coninous feature binning"
   ]
  },
  {
   "cell_type": "code",
   "execution_count": 30,
   "id": "fcf7aff5",
   "metadata": {},
   "outputs": [
    {
     "data": {
      "text/html": [
       "<div>\n",
       "<style scoped>\n",
       "    .dataframe tbody tr th:only-of-type {\n",
       "        vertical-align: middle;\n",
       "    }\n",
       "\n",
       "    .dataframe tbody tr th {\n",
       "        vertical-align: top;\n",
       "    }\n",
       "\n",
       "    .dataframe thead th {\n",
       "        text-align: right;\n",
       "    }\n",
       "</style>\n",
       "<table border=\"1\" class=\"dataframe\">\n",
       "  <thead>\n",
       "    <tr style=\"text-align: right;\">\n",
       "      <th></th>\n",
       "      <th>reference number</th>\n",
       "      <th>name</th>\n",
       "      <th>price</th>\n",
       "      <th>date</th>\n",
       "    </tr>\n",
       "  </thead>\n",
       "  <tbody>\n",
       "    <tr>\n",
       "      <th>0</th>\n",
       "      <td>740150</td>\n",
       "      <td>Thomas LLC</td>\n",
       "      <td>3380.91</td>\n",
       "      <td>2018-01-01 07:21:51</td>\n",
       "    </tr>\n",
       "    <tr>\n",
       "      <th>1</th>\n",
       "      <td>714466</td>\n",
       "      <td>Sillians-Krapfs</td>\n",
       "      <td>-63.16</td>\n",
       "      <td>2018-01-01 10:00:47</td>\n",
       "    </tr>\n",
       "    <tr>\n",
       "      <th>2</th>\n",
       "      <td>218895</td>\n",
       "      <td>Snodgrass Inc</td>\n",
       "      <td>2086.10</td>\n",
       "      <td>2018-01-01 13:24:58</td>\n",
       "    </tr>\n",
       "    <tr>\n",
       "      <th>3</th>\n",
       "      <td>307599</td>\n",
       "      <td>Craut, Oniote and Johnson</td>\n",
       "      <td>863.05</td>\n",
       "      <td>2018-01-01 15:05:22</td>\n",
       "    </tr>\n",
       "    <tr>\n",
       "      <th>4</th>\n",
       "      <td>412290</td>\n",
       "      <td>Judais-Pewrters</td>\n",
       "      <td>499.26</td>\n",
       "      <td>2018-01-01 23:26:55</td>\n",
       "    </tr>\n",
       "    <tr>\n",
       "      <th>...</th>\n",
       "      <td>...</td>\n",
       "      <td>...</td>\n",
       "      <td>...</td>\n",
       "      <td>...</td>\n",
       "    </tr>\n",
       "    <tr>\n",
       "      <th>1502</th>\n",
       "      <td>424914</td>\n",
       "      <td>Green-Brown</td>\n",
       "      <td>1582.49</td>\n",
       "      <td>2018-11-27 14:29:02</td>\n",
       "    </tr>\n",
       "    <tr>\n",
       "      <th>1503</th>\n",
       "      <td>424914</td>\n",
       "      <td>Green-Brown</td>\n",
       "      <td>1049.28</td>\n",
       "      <td>2018-12-19 15:15:41</td>\n",
       "    </tr>\n",
       "    <tr>\n",
       "      <th>1504</th>\n",
       "      <td>424914</td>\n",
       "      <td>Green-Brown</td>\n",
       "      <td>2166.75</td>\n",
       "      <td>2018-12-29 13:03:54</td>\n",
       "    </tr>\n",
       "    <tr>\n",
       "      <th>1505</th>\n",
       "      <td>424914</td>\n",
       "      <td>Green-Brown</td>\n",
       "      <td>1915.00</td>\n",
       "      <td>2018-12-22 03:31:36</td>\n",
       "    </tr>\n",
       "    <tr>\n",
       "      <th>1506</th>\n",
       "      <td>424914</td>\n",
       "      <td>Green-Brown</td>\n",
       "      <td>8819.00</td>\n",
       "      <td>2018-12-16 00:46:26</td>\n",
       "    </tr>\n",
       "  </tbody>\n",
       "</table>\n",
       "<p>1507 rows × 4 columns</p>\n",
       "</div>"
      ],
      "text/plain": [
       "      reference number                       name    price                date\n",
       "0               740150                 Thomas LLC  3380.91 2018-01-01 07:21:51\n",
       "1               714466            Sillians-Krapfs   -63.16 2018-01-01 10:00:47\n",
       "2               218895              Snodgrass Inc  2086.10 2018-01-01 13:24:58\n",
       "3               307599  Craut, Oniote and Johnson   863.05 2018-01-01 15:05:22\n",
       "4               412290            Judais-Pewrters   499.26 2018-01-01 23:26:55\n",
       "...                ...                        ...      ...                 ...\n",
       "1502            424914                Green-Brown  1582.49 2018-11-27 14:29:02\n",
       "1503            424914                Green-Brown  1049.28 2018-12-19 15:15:41\n",
       "1504            424914                Green-Brown  2166.75 2018-12-29 13:03:54\n",
       "1505            424914                Green-Brown  1915.00 2018-12-22 03:31:36\n",
       "1506            424914                Green-Brown  8819.00 2018-12-16 00:46:26\n",
       "\n",
       "[1507 rows x 4 columns]"
      ]
     },
     "execution_count": 30,
     "metadata": {},
     "output_type": "execute_result"
    }
   ],
   "source": [
    "\n",
    "revenue_df = pd.read_excel('https://github.com/vbloise3/WhizLabsML/blob/master/binning/201_Revenue_Total.xlsx?raw=true')\n",
    "revenue_df"
   ]
  },
  {
   "cell_type": "code",
   "execution_count": 32,
   "id": "8083abdd",
   "metadata": {},
   "outputs": [
    {
     "data": {
      "text/plain": [
       "<AxesSubplot:ylabel='Frequency'>"
      ]
     },
     "execution_count": 32,
     "metadata": {},
     "output_type": "execute_result"
    },
    {
     "data": {
      "image/png": "[encoded data removed]",
      "text/plain": [
       "<Figure size 432x288 with 1 Axes>"
      ]
     },
     "metadata": {},
     "output_type": "display_data"
    }
   ],
   "source": [
    "# Bin continuous datas by using a simple histogram\n",
    "import seaborn as sns\n",
    "sns.set_style('whitegrid')\n",
    "df = revenue_df.groupby(['reference number', 'name'])['price'].sum().reset_index()\n",
    "df['price'].plot(kind='hist')"
   ]
  },
  {
   "cell_type": "code",
   "execution_count": 33,
   "id": "c7dddb54",
   "metadata": {},
   "outputs": [
    {
     "data": {
      "text/plain": [
       "count        20.000000\n",
       "mean     101711.287500\n",
       "std       27037.449673\n",
       "min       55733.050000\n",
       "25%       89137.707500\n",
       "50%      100271.535000\n",
       "75%      110132.552500\n",
       "max      184793.700000\n",
       "Name: price, dtype: float64"
      ]
     },
     "execution_count": 33,
     "metadata": {},
     "output_type": "execute_result"
    }
   ],
   "source": [
    "df.price.describe()"
   ]
  },
  {
   "cell_type": "code",
   "execution_count": 34,
   "id": "1535baeb",
   "metadata": {},
   "outputs": [
    {
     "data": {
      "text/html": [
       "<div>\n",
       "<style scoped>\n",
       "    .dataframe tbody tr th:only-of-type {\n",
       "        vertical-align: middle;\n",
       "    }\n",
       "\n",
       "    .dataframe tbody tr th {\n",
       "        vertical-align: top;\n",
       "    }\n",
       "\n",
       "    .dataframe thead th {\n",
       "        text-align: right;\n",
       "    }\n",
       "</style>\n",
       "<table border=\"1\" class=\"dataframe\">\n",
       "  <thead>\n",
       "    <tr style=\"text-align: right;\">\n",
       "      <th></th>\n",
       "      <th>reference number</th>\n",
       "      <th>name</th>\n",
       "      <th>price</th>\n",
       "      <th>quantile_price_quartiles</th>\n",
       "      <th>quantile_price_deciles</th>\n",
       "      <th>quantile_price_quintiles</th>\n",
       "    </tr>\n",
       "  </thead>\n",
       "  <tbody>\n",
       "    <tr>\n",
       "      <th>0</th>\n",
       "      <td>141962</td>\n",
       "      <td>Speilmans LLC</td>\n",
       "      <td>63626.03</td>\n",
       "      <td>(55733.049000000006, 89137.708]</td>\n",
       "      <td>(55732.0, 76471.0]</td>\n",
       "      <td>Rookie</td>\n",
       "    </tr>\n",
       "    <tr>\n",
       "      <th>1</th>\n",
       "      <td>146832</td>\n",
       "      <td>Jones-Spank</td>\n",
       "      <td>99608.77</td>\n",
       "      <td>(89137.708, 100271.535]</td>\n",
       "      <td>(95908.0, 100272.0]</td>\n",
       "      <td>Junior</td>\n",
       "    </tr>\n",
       "    <tr>\n",
       "      <th>2</th>\n",
       "      <td>163416</td>\n",
       "      <td>Muns-Kalifan</td>\n",
       "      <td>77898.21</td>\n",
       "      <td>(55733.049000000006, 89137.708]</td>\n",
       "      <td>(76471.0, 87168.0]</td>\n",
       "      <td>Rookie</td>\n",
       "    </tr>\n",
       "    <tr>\n",
       "      <th>3</th>\n",
       "      <td>218895</td>\n",
       "      <td>Snodgrass Inc</td>\n",
       "      <td>137351.96</td>\n",
       "      <td>(110132.552, 184793.7]</td>\n",
       "      <td>(124778.0, 184794.0]</td>\n",
       "      <td>Professional</td>\n",
       "    </tr>\n",
       "    <tr>\n",
       "      <th>4</th>\n",
       "      <td>239344</td>\n",
       "      <td>Finley LLC</td>\n",
       "      <td>91535.92</td>\n",
       "      <td>(89137.708, 100271.535]</td>\n",
       "      <td>(90686.0, 95908.0]</td>\n",
       "      <td>Sophomore</td>\n",
       "    </tr>\n",
       "  </tbody>\n",
       "</table>\n",
       "</div>"
      ],
      "text/plain": [
       "   reference number           name      price  \\\n",
       "0            141962  Speilmans LLC   63626.03   \n",
       "1            146832    Jones-Spank   99608.77   \n",
       "2            163416   Muns-Kalifan   77898.21   \n",
       "3            218895  Snodgrass Inc  137351.96   \n",
       "4            239344     Finley LLC   91535.92   \n",
       "\n",
       "          quantile_price_quartiles quantile_price_deciles  \\\n",
       "0  (55733.049000000006, 89137.708]     (55732.0, 76471.0]   \n",
       "1          (89137.708, 100271.535]    (95908.0, 100272.0]   \n",
       "2  (55733.049000000006, 89137.708]     (76471.0, 87168.0]   \n",
       "3           (110132.552, 184793.7]   (124778.0, 184794.0]   \n",
       "4          (89137.708, 100271.535]     (90686.0, 95908.0]   \n",
       "\n",
       "  quantile_price_quintiles  \n",
       "0                   Rookie  \n",
       "1                   Junior  \n",
       "2                   Rookie  \n",
       "3             Professional  \n",
       "4                Sophomore  "
      ]
     },
     "execution_count": 34,
     "metadata": {},
     "output_type": "execute_result"
    }
   ],
   "source": [
    "df['quantile_price_quartiles'] = pd.qcut(df['price'], q=4)\n",
    "df['quantile_price_deciles'] = pd.qcut(df['price'], q=10, precision=0)\n",
    "bin_labels_5 = ['Rookie', 'Sophomore', 'Junior', 'Senior', 'Professional']\n",
    "df['quantile_price_quintiles'] = pd.qcut(df['price'],\n",
    "                              q=[0, .2, .4, .6, .8, 1],\n",
    "                              labels=bin_labels_5)\n",
    "df.head()"
   ]
  },
  {
   "cell_type": "code",
   "execution_count": 35,
   "id": "26fff232",
   "metadata": {},
   "outputs": [
    {
     "data": {
      "text/html": [
       "<div>\n",
       "<style scoped>\n",
       "    .dataframe tbody tr th:only-of-type {\n",
       "        vertical-align: middle;\n",
       "    }\n",
       "\n",
       "    .dataframe tbody tr th {\n",
       "        vertical-align: top;\n",
       "    }\n",
       "\n",
       "    .dataframe thead th {\n",
       "        text-align: right;\n",
       "    }\n",
       "</style>\n",
       "<table border=\"1\" class=\"dataframe\">\n",
       "  <thead>\n",
       "    <tr style=\"text-align: right;\">\n",
       "      <th></th>\n",
       "      <th>Threshold</th>\n",
       "      <th>Tier</th>\n",
       "    </tr>\n",
       "  </thead>\n",
       "  <tbody>\n",
       "    <tr>\n",
       "      <th>0</th>\n",
       "      <td>55733.050</td>\n",
       "      <td>Rookie</td>\n",
       "    </tr>\n",
       "    <tr>\n",
       "      <th>1</th>\n",
       "      <td>87167.958</td>\n",
       "      <td>Sophomore</td>\n",
       "    </tr>\n",
       "    <tr>\n",
       "      <th>2</th>\n",
       "      <td>95908.156</td>\n",
       "      <td>Junior</td>\n",
       "    </tr>\n",
       "    <tr>\n",
       "      <th>3</th>\n",
       "      <td>103605.970</td>\n",
       "      <td>Senior</td>\n",
       "    </tr>\n",
       "    <tr>\n",
       "      <th>4</th>\n",
       "      <td>112290.054</td>\n",
       "      <td>Professional</td>\n",
       "    </tr>\n",
       "  </tbody>\n",
       "</table>\n",
       "</div>"
      ],
      "text/plain": [
       "    Threshold          Tier\n",
       "0   55733.050        Rookie\n",
       "1   87167.958     Sophomore\n",
       "2   95908.156        Junior\n",
       "3  103605.970        Senior\n",
       "4  112290.054  Professional"
      ]
     },
     "execution_count": 35,
     "metadata": {},
     "output_type": "execute_result"
    }
   ],
   "source": [
    "# Check the bin ranges\n",
    "results, bin_edges = pd.qcut(df['price'],\n",
    "                            q=[0, .2, .4, .6, .8, 1],\n",
    "                            labels=bin_labels_5,\n",
    "                            retbins=True)\n",
    "\n",
    "results_table = pd.DataFrame(zip(bin_edges, bin_labels_5),\n",
    "                            columns=['Threshold', 'Tier'])\n",
    "results_table"
   ]
  }
 ],
 "metadata": {
  "kernelspec": {
   "display_name": "conda_python3",
   "language": "python",
   "name": "conda_python3"
  },
  "language_info": {
   "codemirror_mode": {
    "name": "ipython",
    "version": 3
   },
   "file_extension": ".py",
   "mimetype": "text/x-python",
   "name": "python",
   "nbconvert_exporter": "python",
   "pygments_lexer": "ipython3",
   "version": "3.8.12"
  }
 },
 "nbformat": 4,
 "nbformat_minor": 5
}
